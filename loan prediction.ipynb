# -*- coding: utf-8 -*-
"""
Created on Sat Jun  8 13:20:37 2019

@author: USER
"""

import numpy as np 
import pandas as pd
import seaborn as sns
import matplotlib.pyplot as plt
df= pd.read_csv('C:\\Users\\USER\\Desktop\\textpre.csv')
new.describe()
sort=new.groupby(new['Loan_Status']).size()
new["Loan_Status"].value_counts()
MyEmptydf = pd.DataFrame()
new = df[['Gender', 'Married', 'Dependents','Education','Self_Employed','ApplicantIncome','CoapplicantIncome','LoanAmount','Loan_Amount_Term','Credit_History','Property_Area','Loan_Status']].copy()
if df2[df2['Gender'] == 'nan']:
    df2.dropna()
i = df[df.Gender == 'NaN'].index
df.drop(i)
df.drop(['Loan_ID'], axis=1)
# Get names of indexes for which column Age has value 30
q=np.mean(df['LoanAmount'])
new_df=new.replace({'LoanAmount':'nan'},np.mean(df['LoanAmount']))
indexNames = new[ new['Gender'] == np.nan ].index
new.drop(indexNames , inplace=True)
new.mean()
new.fillna(new.mean())
new.apply(lambda x: x.fillna(x.mean()),axis=0)
a_array = new[new["LoanAmount"]!=np.nan]["LoanAmount"]
new["LoanAmount"].replace(np.nan,a_array .mean())
new["Gender"].value_counts("Male")
maley=0
malen=0
femaley=0
femalen=0
for i in range(614):
    if new["Gender"][i]=="Male":
        if new["Loan_Status"][i]=="Y":
            maley=maley+1
        if new["Loan_Status"][i]=="N":
           malen=malen+1
    if new["Gender"][i]=="Female":
        if new["Loan_Status"][i]=="Y":
            femaley=femaley+1
        if new["Loan_Status"][i]=="N":
            femalen=femalen+1
print(maley/422)
print(malen/192)
print(femaley/422)
print(femalen/192)  
for i in range(614):
   if new["Dependents"][i]=="3+":
        new["Dependents"][i]=4
new['Gender'].fillna('Male', inplace=True)
new['ApplicantIncome'] = new['ApplicantIncome'].fillna((new['ApplicantIncome'].mean()))
new['LoanAmount'] = new['LoanAmount'].fillna((new['LoanAmount'].mode()))
new['Credit_History'] = new['Credit_History'].fillna(new['Credit_History'].mode()[0])
new['Loan_Amount_Term'] = new['Loan_Amount_Term'].fillna(new['Loan_Amount_Term'].mode()[0])
new['Dependents'] = new['Dependents'].fillna(new['Dependents'].mode()[0])
new['Education'] = new['Education'].fillna(new['Education'].mode()[0])
new['Self_Employed'] = new['Self_Employed'].fillna(new['Self_Employed'].mode()[0])
new['Married'] = new['Married'].fillna(new['Married'].mode()[0])
new['LoanAmount'] = new['LoanAmount'].fillna(new['LoanAmount'].mode()[0])

from sklearn.impute import SimpleImputer
imp_mean = SimpleImputer(missing_values=np.nan, strategy='mode')
imp_mean.fit(new["Credit_History"])
plt.figure()
maxi=844
MyEmptydf =new.copy()
lent=len(new)
newlent=lent
for i in range(lent):
    if new.loc[i]['Loan_Status']=='N':
       MyEmptydf.loc[newlent]=new.loc[i]
       newlent=newlent+1
for i in range(lent):
    if newlent>maxi:
        break
    if new.loc[i]['Loan_Status']=='N':
       MyEmptydf.loc[newlent]=new.loc[i]
       newlent=newlent+1        
k=MyEmptydf.groupby(MyEmptydf['Loan_Status']).size()
MyEmptydf = MyEmptydf.astype('float')
MyEmptydf .convert_objects(convert_numeric=True).dtypes


#sort=MyEmptydf .groupby(MyEmptydf ['Loan_Status']).size()
#sns.pairplot(data=new[["Gender","Married","Dependents","Education","Self_Employed","ApplicantIncome","CoapplicantIncome","LoanAmount","Loan_Amount_Term","Credit_History","Property_Area","Loan_Status"]],hue="Loan_Status",dropna=True)
#sns.set(style="ticks", color_codes=True)
#df = sns.load_dataset("textpre")
#g = sns.pairplot(df)
#g = sns.pairplot(df, hue="species")
#sns.heatmap(textpre.corr(),cmap="YlGnBu", linecolor='white', linewidths=1)
#data=imp.fit_transform(MyEmptydf)

MyEmptydf = pd.DataFrame()
MyEmptydf["male"]=0

MyEmptydf["non_married"]=0
MyEmptydf["married"]=0
MyEmptydf["dependents"]=0
MyEmptydf["non dependents"]=0
MyEmptydf["non_educated"]=0
MyEmptydf["educated"]=0
MyEmptydf["female"]=0
MyEmptydf["unmarried"]=0
MyEmptydf["self_employed"]=0
MyEmptydf["not self_employed"]=0
MyEmptydf["rural"]=0
MyEmptydf["semi urban"]=0
MyEmptydf["urban"]=0
MyEmptydf["credit"]=0
MyEmptydf["no credit"]=0
mysize=len(MyEmptydf)
MyEmptydf.loc[MyEmptydf['Gender']=="Male",'male']=1
MyEmptydf.loc[MyEmptydf['Gender']=="Female",'female']=1
MyEmptydf.loc[MyEmptydf['Married']=="Yes",'married']=1
MyEmptydf.loc[MyEmptydf['Married']=="No",'non_married']=1
MyEmptydf.loc[MyEmptydf['Property_Area']=="Rural",'rural']=1
MyEmptydf.loc[MyEmptydf['Property_Area']=="Urban",'urban']=1
MyEmptydf.loc[MyEmptydf['Property_Area']=="Semiurban",'semi urban']=1
MyEmptydf.loc[MyEmptydf['Education']=="Not Graduate",'non_educated']=1
MyEmptydf.loc[MyEmptydf['Education']=="Graduate",'educated']=1

MyEmptydf.loc[MyEmptydf['Self_Employed']=="Yes",'self_employed']=1
MyEmptydf.loc[MyEmptydf['Self_Employed']=="No",'not self_employed']=1
MyEmptydf.loc[MyEmptydf['Credit_History']==1,'credit']=1
MyEmptydf.loc[MyEmptydf['Credit_History']==0,'no credit']=1
t=MyEmptydf.cov()


import matplotlib.pyplot as plt
new[new.dtypes[(new.dtypes=="float64")|(new.dtypes=="int64")].index.values].hist(figsize=[11,11])
new.loc[new.index["graduate"], 'New Column Title'] = "some value"

MyEmptydf.loc[new["Loan_Status"=="YES","Property_Area"=="Urban"]]="1"
from sklearn.preprocessing import OneHotEncoder
enc=OneHotEncoder(sparse=False)
columns=['Gender', 'Married', 'Dependents', 'Education','Self_Employed',
          'Credit_History', 'Property_Area']
ohe = OneHotEncoder(sparse=False)
# calculate summary statistics
data_mean, data_std =MyEmptydf['ApplicantIncome'].mean(),MyEmptydf['ApplicantIncome'].std()
# identify outliers
cut_off = data_std * 3
lower, upper = data_mean - cut_off, data_mean + cut_off
# identify outliers
outliers = [x for x in MyEmptydf['ApplicantIncome'] if x < lower or x > upper]
# remove outliers
outliers_removed = [x for x in MyEmptydf['ApplicantIncome']  if x > lower and x < upper]

MyEmptydf.drop(['Gender','Married','Education','Self_Employed','Credit_History','Property_Area'],axis=1,inplace=True)
corre=MyEmptydf.corr()
sns.pairplot(corre,hue='Loan_Status')
plt.subplots(figsize=(20,15))
sns.heatmap(corre,annot=True,cmap=plt.cm.Reds)
plt.show()
